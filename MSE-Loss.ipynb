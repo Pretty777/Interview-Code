{
 "cells": [
  {
   "cell_type": "code",
   "execution_count": 2,
   "metadata": {},
   "outputs": [
    {
     "name": "stdout",
     "output_type": "stream",
     "text": [
      "MSE Loss: 0.07750000000000003\n"
     ]
    }
   ],
   "source": [
    "import numpy as np\n",
    "\n",
    "def mse_loss(y_true, y_pred):\n",
    "    '''\n",
    "    计算均方误差损失函数\n",
    "    参数：\n",
    "    y_true -- 真实的数值，可以是一维或者多维\n",
    "    y_pred -- 预测值的数值，和 y_true 形状相同\n",
    "    \n",
    "    返回：\n",
    "    loss   -- 计算得到的MSE损失值\n",
    "    '''\n",
    "    # 计算差值\n",
    "    diff = y_true - y_pred\n",
    "    # 计算差值的平方\n",
    "    sq_diff = np.square(diff)\n",
    "\n",
    "    # 计算均方误差，即平方差的平均值\n",
    "    # 使用np.mean计算平均值，axis=0 表示沿着第一个轴计算\n",
    "    loss = np.mean(sq_diff, axis=0)\n",
    "    \n",
    "    return loss\n",
    "\n",
    "y_true = np.array([1,2,3,4])\n",
    "y_pred = np.array([1.5,2.1,2.9,4.2])\n",
    "\n",
    "loss = mse_loss(y_true,y_pred)\n",
    "\n",
    "print(\"MSE Loss:\", loss)\n"
   ]
  },
  {
   "cell_type": "code",
   "execution_count": null,
   "metadata": {},
   "outputs": [],
   "source": []
  }
 ],
 "metadata": {
  "kernelspec": {
   "display_name": "d2l",
   "language": "python",
   "name": "python3"
  },
  "language_info": {
   "codemirror_mode": {
    "name": "ipython",
    "version": 3
   },
   "file_extension": ".py",
   "mimetype": "text/x-python",
   "name": "python",
   "nbconvert_exporter": "python",
   "pygments_lexer": "ipython3",
   "version": "3.11.8"
  }
 },
 "nbformat": 4,
 "nbformat_minor": 2
}
